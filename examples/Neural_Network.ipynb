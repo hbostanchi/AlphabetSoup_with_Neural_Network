{
 "cells": [
  {
   "cell_type": "code",
   "execution_count": 1,
   "metadata": {},
   "outputs": [],
   "source": [
    "# Import our dependencies\n",
    "import pandas as pd\n",
    "import matplotlib as plt\n",
    "from sklearn.datasets import make_blobs\n",
    "import sklearn as skl\n",
    "import tensorflow as tf\n"
   ]
  },
  {
   "cell_type": "code",
   "execution_count": 2,
   "metadata": {},
   "outputs": [
    {
     "data": {
      "text/plain": [
       "<matplotlib.axes._subplots.AxesSubplot at 0x1a3f3624a8>"
      ]
     },
     "execution_count": 2,
     "metadata": {},
     "output_type": "execute_result"
    }
   ],
   "source": [
    "# Generate dummy dataset\n",
    "X, y = make_blobs(n_samples=1000, centers=2, n_features=2, random_state=78)\n",
    "\n",
    "# Creating a DataFrame with the dummy data\n",
    "df = pd.DataFrame(X, columns=[\"Feature 1\", \"Feature 2\"])\n",
    "df[\"Target\"] = y\n",
    "\n",
    "# Plotting the dummy data\n",
    "df.plot.scatter(x=\"Feature 1\", y=\"Feature 2\", c=\"Target\", colormap=\"winter\")"
   ]
  },
  {
   "cell_type": "code",
   "execution_count": 3,
   "metadata": {},
   "outputs": [],
   "source": [
    "# Use sklearn to split dataset\n",
    "from sklearn.model_selection import train_test_split\n",
    "X_train, X_test, y_train, y_test = train_test_split(X, y, random_state=78)"
   ]
  },
  {
   "cell_type": "code",
   "execution_count": 4,
   "metadata": {},
   "outputs": [],
   "source": [
    "# Create scaler instance\n",
    "X_scaler = skl.preprocessing.StandardScaler()\n",
    "\n",
    "# Fit the scaler\n",
    "X_scaler.fit(X_train)\n",
    "\n",
    "# Scale the data\n",
    "X_train_scaled = X_scaler.transform(X_train)\n",
    "X_test_scaled = X_scaler.transform(X_test)"
   ]
  },
  {
   "cell_type": "code",
   "execution_count": 5,
   "metadata": {},
   "outputs": [],
   "source": [
    "# Create the Keras Sequential model\n",
    "nn_model = tf.keras.models.Sequential()"
   ]
  },
  {
   "cell_type": "code",
   "execution_count": 6,
   "metadata": {},
   "outputs": [],
   "source": [
    "# Add our first Dense layer, including the input layer\n",
    "nn_model.add(tf.keras.layers.Dense(units=1, activation=\"relu\", input_dim=2))"
   ]
  },
  {
   "cell_type": "code",
   "execution_count": 7,
   "metadata": {},
   "outputs": [],
   "source": [
    "# Add the output layer that uses a probability activation function\n",
    "nn_model.add(tf.keras.layers.Dense(units=1, activation=\"sigmoid\"))"
   ]
  },
  {
   "cell_type": "code",
   "execution_count": 8,
   "metadata": {},
   "outputs": [
    {
     "name": "stdout",
     "output_type": "stream",
     "text": [
      "Model: \"sequential\"\n",
      "_________________________________________________________________\n",
      "Layer (type)                 Output Shape              Param #   \n",
      "=================================================================\n",
      "dense (Dense)                (None, 1)                 3         \n",
      "_________________________________________________________________\n",
      "dense_1 (Dense)              (None, 1)                 2         \n",
      "=================================================================\n",
      "Total params: 5\n",
      "Trainable params: 5\n",
      "Non-trainable params: 0\n",
      "_________________________________________________________________\n"
     ]
    }
   ],
   "source": [
    "# Check the structure of the Sequential model\n",
    "nn_model.summary()"
   ]
  },
  {
   "cell_type": "code",
   "execution_count": 9,
   "metadata": {},
   "outputs": [],
   "source": [
    "# Compile the Sequential model together and customize metrics\n",
    "nn_model.compile(loss=\"binary_crossentropy\", optimizer=\"adam\", metrics=[\"accuracy\"])"
   ]
  },
  {
   "cell_type": "code",
   "execution_count": 10,
   "metadata": {},
   "outputs": [
    {
     "name": "stdout",
     "output_type": "stream",
     "text": [
      "Train on 750 samples\n",
      "Epoch 1/100\n",
      "750/750 [==============================] - 1s 1ms/sample - loss: 1.1379 - accuracy: 0.0627\n",
      "Epoch 2/100\n",
      "750/750 [==============================] - 0s 87us/sample - loss: 1.0994 - accuracy: 0.0680\n",
      "Epoch 3/100\n",
      "750/750 [==============================] - 0s 76us/sample - loss: 1.0624 - accuracy: 0.0733\n",
      "Epoch 4/100\n",
      "750/750 [==============================] - 0s 96us/sample - loss: 1.0297 - accuracy: 0.0827\n",
      "Epoch 5/100\n",
      "750/750 [==============================] - 0s 85us/sample - loss: 0.9992 - accuracy: 0.0840\n",
      "Epoch 6/100\n",
      "750/750 [==============================] - 0s 110us/sample - loss: 0.9711 - accuracy: 0.0947\n",
      "Epoch 7/100\n",
      "750/750 [==============================] - 0s 82us/sample - loss: 0.9453 - accuracy: 0.1093\n",
      "Epoch 8/100\n",
      "750/750 [==============================] - 0s 95us/sample - loss: 0.9219 - accuracy: 0.1213\n",
      "Epoch 9/100\n",
      "750/750 [==============================] - 0s 85us/sample - loss: 0.9005 - accuracy: 0.1253\n",
      "Epoch 10/100\n",
      "750/750 [==============================] - 0s 65us/sample - loss: 0.8812 - accuracy: 0.1427\n",
      "Epoch 11/100\n",
      "750/750 [==============================] - 0s 74us/sample - loss: 0.8635 - accuracy: 0.1493\n",
      "Epoch 12/100\n",
      "750/750 [==============================] - 0s 52us/sample - loss: 0.8479 - accuracy: 0.1653\n",
      "Epoch 13/100\n",
      "750/750 [==============================] - 0s 50us/sample - loss: 0.8335 - accuracy: 0.1747\n",
      "Epoch 14/100\n",
      "750/750 [==============================] - 0s 54us/sample - loss: 0.8201 - accuracy: 0.1960\n",
      "Epoch 15/100\n",
      "750/750 [==============================] - 0s 50us/sample - loss: 0.8083 - accuracy: 0.2080\n",
      "Epoch 16/100\n",
      "750/750 [==============================] - 0s 49us/sample - loss: 0.7973 - accuracy: 0.2147\n",
      "Epoch 17/100\n",
      "750/750 [==============================] - 0s 52us/sample - loss: 0.7871 - accuracy: 0.2373\n",
      "Epoch 18/100\n",
      "750/750 [==============================] - 0s 52us/sample - loss: 0.7782 - accuracy: 0.2480\n",
      "Epoch 19/100\n",
      "750/750 [==============================] - 0s 51us/sample - loss: 0.7699 - accuracy: 0.2547\n",
      "Epoch 20/100\n",
      "750/750 [==============================] - 0s 51us/sample - loss: 0.7625 - accuracy: 0.2653\n",
      "Epoch 21/100\n",
      "750/750 [==============================] - 0s 51us/sample - loss: 0.7556 - accuracy: 0.2827\n",
      "Epoch 22/100\n",
      "750/750 [==============================] - 0s 52us/sample - loss: 0.7493 - accuracy: 0.3013\n",
      "Epoch 23/100\n",
      "750/750 [==============================] - 0s 51us/sample - loss: 0.7436 - accuracy: 0.3147\n",
      "Epoch 24/100\n",
      "750/750 [==============================] - 0s 52us/sample - loss: 0.7385 - accuracy: 0.3267\n",
      "Epoch 25/100\n",
      "750/750 [==============================] - 0s 52us/sample - loss: 0.7336 - accuracy: 0.3400\n",
      "Epoch 26/100\n",
      "750/750 [==============================] - 0s 52us/sample - loss: 0.7292 - accuracy: 0.3573\n",
      "Epoch 27/100\n",
      "750/750 [==============================] - 0s 53us/sample - loss: 0.7251 - accuracy: 0.3693\n",
      "Epoch 28/100\n",
      "750/750 [==============================] - 0s 54us/sample - loss: 0.7214 - accuracy: 0.3773\n",
      "Epoch 29/100\n",
      "750/750 [==============================] - 0s 53us/sample - loss: 0.7181 - accuracy: 0.3907\n",
      "Epoch 30/100\n",
      "750/750 [==============================] - 0s 53us/sample - loss: 0.7153 - accuracy: 0.4000\n",
      "Epoch 31/100\n",
      "750/750 [==============================] - 0s 53us/sample - loss: 0.7128 - accuracy: 0.4107\n",
      "Epoch 32/100\n",
      "750/750 [==============================] - 0s 53us/sample - loss: 0.7105 - accuracy: 0.4253\n",
      "Epoch 33/100\n",
      "750/750 [==============================] - 0s 52us/sample - loss: 0.7085 - accuracy: 0.4280\n",
      "Epoch 34/100\n",
      "750/750 [==============================] - 0s 57us/sample - loss: 0.7066 - accuracy: 0.4360\n",
      "Epoch 35/100\n",
      "750/750 [==============================] - 0s 55us/sample - loss: 0.7050 - accuracy: 0.4387\n",
      "Epoch 36/100\n",
      "750/750 [==============================] - 0s 52us/sample - loss: 0.7036 - accuracy: 0.4427\n",
      "Epoch 37/100\n",
      "750/750 [==============================] - 0s 51us/sample - loss: 0.7023 - accuracy: 0.4493\n",
      "Epoch 38/100\n",
      "750/750 [==============================] - 0s 48us/sample - loss: 0.7012 - accuracy: 0.4547\n",
      "Epoch 39/100\n",
      "750/750 [==============================] - 0s 57us/sample - loss: 0.7002 - accuracy: 0.4600\n",
      "Epoch 40/100\n",
      "750/750 [==============================] - 0s 52us/sample - loss: 0.6994 - accuracy: 0.4693\n",
      "Epoch 41/100\n",
      "750/750 [==============================] - 0s 51us/sample - loss: 0.6987 - accuracy: 0.4720\n",
      "Epoch 42/100\n",
      "750/750 [==============================] - 0s 52us/sample - loss: 0.6980 - accuracy: 0.4773\n",
      "Epoch 43/100\n",
      "750/750 [==============================] - 0s 52us/sample - loss: 0.6973 - accuracy: 0.4867\n",
      "Epoch 44/100\n",
      "750/750 [==============================] - 0s 53us/sample - loss: 0.6967 - accuracy: 0.4907\n",
      "Epoch 45/100\n",
      "750/750 [==============================] - 0s 53us/sample - loss: 0.6962 - accuracy: 0.4907\n",
      "Epoch 46/100\n",
      "750/750 [==============================] - 0s 54us/sample - loss: 0.6957 - accuracy: 0.4933\n",
      "Epoch 47/100\n",
      "750/750 [==============================] - 0s 52us/sample - loss: 0.6952 - accuracy: 0.4960\n",
      "Epoch 48/100\n",
      "750/750 [==============================] - 0s 51us/sample - loss: 0.6948 - accuracy: 0.4987\n",
      "Epoch 49/100\n",
      "750/750 [==============================] - 0s 54us/sample - loss: 0.6945 - accuracy: 0.5013\n",
      "Epoch 50/100\n",
      "750/750 [==============================] - 0s 53us/sample - loss: 0.6942 - accuracy: 0.5013\n",
      "Epoch 51/100\n",
      "750/750 [==============================] - 0s 51us/sample - loss: 0.6939 - accuracy: 0.5013\n",
      "Epoch 52/100\n",
      "750/750 [==============================] - 0s 53us/sample - loss: 0.6937 - accuracy: 0.5053\n",
      "Epoch 53/100\n",
      "750/750 [==============================] - 0s 54us/sample - loss: 0.6935 - accuracy: 0.5053\n",
      "Epoch 54/100\n",
      "750/750 [==============================] - 0s 56us/sample - loss: 0.6933 - accuracy: 0.5053\n",
      "Epoch 55/100\n",
      "750/750 [==============================] - 0s 53us/sample - loss: 0.6932 - accuracy: 0.5080\n",
      "Epoch 56/100\n",
      "750/750 [==============================] - 0s 51us/sample - loss: 0.6930 - accuracy: 0.5080\n",
      "Epoch 57/100\n",
      "750/750 [==============================] - 0s 49us/sample - loss: 0.6929 - accuracy: 0.5093\n",
      "Epoch 58/100\n",
      "750/750 [==============================] - 0s 49us/sample - loss: 0.6927 - accuracy: 0.5120\n",
      "Epoch 59/100\n",
      "750/750 [==============================] - 0s 50us/sample - loss: 0.6926 - accuracy: 0.5147\n",
      "Epoch 60/100\n",
      "750/750 [==============================] - 0s 49us/sample - loss: 0.6925 - accuracy: 0.5173\n",
      "Epoch 61/100\n",
      "750/750 [==============================] - 0s 49us/sample - loss: 0.6923 - accuracy: 0.5213\n",
      "Epoch 62/100\n",
      "750/750 [==============================] - 0s 48us/sample - loss: 0.6922 - accuracy: 0.5227\n",
      "Epoch 63/100\n",
      "750/750 [==============================] - 0s 47us/sample - loss: 0.6921 - accuracy: 0.5227\n",
      "Epoch 64/100\n",
      "750/750 [==============================] - 0s 50us/sample - loss: 0.6919 - accuracy: 0.5267\n",
      "Epoch 65/100\n",
      "750/750 [==============================] - 0s 52us/sample - loss: 0.6918 - accuracy: 0.5280\n",
      "Epoch 66/100\n",
      "750/750 [==============================] - 0s 51us/sample - loss: 0.6917 - accuracy: 0.5280\n",
      "Epoch 67/100\n",
      "750/750 [==============================] - 0s 51us/sample - loss: 0.6916 - accuracy: 0.5320\n",
      "Epoch 68/100\n",
      "750/750 [==============================] - 0s 51us/sample - loss: 0.6914 - accuracy: 0.5320\n",
      "Epoch 69/100\n",
      "750/750 [==============================] - 0s 50us/sample - loss: 0.6913 - accuracy: 0.5320\n",
      "Epoch 70/100\n",
      "750/750 [==============================] - 0s 51us/sample - loss: 0.6912 - accuracy: 0.5320\n",
      "Epoch 71/100\n",
      "750/750 [==============================] - 0s 50us/sample - loss: 0.6910 - accuracy: 0.5347\n",
      "Epoch 72/100\n",
      "750/750 [==============================] - 0s 49us/sample - loss: 0.6909 - accuracy: 0.5360\n",
      "Epoch 73/100\n",
      "750/750 [==============================] - 0s 48us/sample - loss: 0.6907 - accuracy: 0.5360\n",
      "Epoch 74/100\n",
      "750/750 [==============================] - 0s 50us/sample - loss: 0.6906 - accuracy: 0.5360\n",
      "Epoch 75/100\n",
      "750/750 [==============================] - 0s 50us/sample - loss: 0.6904 - accuracy: 0.5387\n",
      "Epoch 76/100\n",
      "750/750 [==============================] - 0s 47us/sample - loss: 0.6902 - accuracy: 0.5400\n",
      "Epoch 77/100\n",
      "750/750 [==============================] - 0s 52us/sample - loss: 0.6900 - accuracy: 0.5440\n",
      "Epoch 78/100\n",
      "750/750 [==============================] - 0s 50us/sample - loss: 0.6898 - accuracy: 0.5440\n",
      "Epoch 79/100\n",
      "750/750 [==============================] - 0s 51us/sample - loss: 0.6896 - accuracy: 0.5453\n",
      "Epoch 80/100\n",
      "750/750 [==============================] - 0s 52us/sample - loss: 0.6894 - accuracy: 0.5480\n",
      "Epoch 81/100\n",
      "750/750 [==============================] - 0s 45us/sample - loss: 0.6891 - accuracy: 0.5493\n",
      "Epoch 82/100\n",
      "750/750 [==============================] - 0s 47us/sample - loss: 0.6888 - accuracy: 0.5533\n",
      "Epoch 83/100\n",
      "750/750 [==============================] - 0s 46us/sample - loss: 0.6884 - accuracy: 0.5573\n",
      "Epoch 84/100\n",
      "750/750 [==============================] - 0s 47us/sample - loss: 0.6880 - accuracy: 0.5640\n",
      "Epoch 85/100\n",
      "750/750 [==============================] - 0s 48us/sample - loss: 0.6875 - accuracy: 0.5707\n",
      "Epoch 86/100\n",
      "750/750 [==============================] - 0s 47us/sample - loss: 0.6869 - accuracy: 0.5747\n",
      "Epoch 87/100\n",
      "750/750 [==============================] - 0s 47us/sample - loss: 0.6863 - accuracy: 0.5773\n",
      "Epoch 88/100\n",
      "750/750 [==============================] - 0s 47us/sample - loss: 0.6855 - accuracy: 0.5933\n",
      "Epoch 89/100\n",
      "750/750 [==============================] - 0s 47us/sample - loss: 0.6844 - accuracy: 0.5960\n",
      "Epoch 90/100\n",
      "750/750 [==============================] - 0s 47us/sample - loss: 0.6832 - accuracy: 0.6093\n",
      "Epoch 91/100\n",
      "750/750 [==============================] - 0s 47us/sample - loss: 0.6817 - accuracy: 0.6227\n",
      "Epoch 92/100\n",
      "750/750 [==============================] - 0s 48us/sample - loss: 0.6800 - accuracy: 0.6360\n",
      "Epoch 93/100\n",
      "750/750 [==============================] - 0s 47us/sample - loss: 0.6780 - accuracy: 0.6533\n",
      "Epoch 94/100\n",
      "750/750 [==============================] - 0s 51us/sample - loss: 0.6753 - accuracy: 0.6680\n",
      "Epoch 95/100\n",
      "750/750 [==============================] - 0s 49us/sample - loss: 0.6719 - accuracy: 0.6907\n",
      "Epoch 96/100\n",
      "750/750 [==============================] - 0s 47us/sample - loss: 0.6674 - accuracy: 0.7253\n",
      "Epoch 97/100\n",
      "750/750 [==============================] - 0s 47us/sample - loss: 0.6616 - accuracy: 0.7573\n",
      "Epoch 98/100\n",
      "750/750 [==============================] - 0s 48us/sample - loss: 0.6536 - accuracy: 0.7947\n",
      "Epoch 99/100\n",
      "750/750 [==============================] - 0s 47us/sample - loss: 0.6430 - accuracy: 0.8333\n",
      "Epoch 100/100\n",
      "750/750 [==============================] - 0s 51us/sample - loss: 0.6292 - accuracy: 0.8840\n"
     ]
    }
   ],
   "source": [
    "# Fit the model to the training data\n",
    "fit_model = nn_model.fit(X_train_scaled, y_train, epochs=100)"
   ]
  },
  {
   "cell_type": "code",
   "execution_count": 11,
   "metadata": {},
   "outputs": [
    {
     "data": {
      "text/plain": [
       "<matplotlib.axes._subplots.AxesSubplot at 0x1a4052d0f0>"
      ]
     },
     "execution_count": 11,
     "metadata": {},
     "output_type": "execute_result"
    },
    {
     "data": {
      "image/png": "[encoded data removed]",
      "text/plain": [
       "<Figure size 432x288 with 1 Axes>"
      ]
     },
     "metadata": {
      "needs_background": "light"
     },
     "output_type": "display_data"
    }
   ],
   "source": [
    "# Create a DataFrame containing training history\n",
    "history_df = pd.DataFrame(fit_model.history, index=range(1,len(fit_model.history[\"loss\"])+1))\n",
    "\n",
    "# Plot the loss\n",
    "history_df.plot(y=\"loss\")"
   ]
  },
  {
   "cell_type": "code",
   "execution_count": 12,
   "metadata": {},
   "outputs": [
    {
     "data": {
      "text/plain": [
       "<matplotlib.axes._subplots.AxesSubplot at 0x1a40d8c940>"
      ]
     },
     "execution_count": 12,
     "metadata": {},
     "output_type": "execute_result"
    },
    {
     "data": {
      "image/png": "[encoded data removed]",
      "text/plain": [
       "<Figure size 432x288 with 1 Axes>"
      ]
     },
     "metadata": {
      "needs_background": "light"
     },
     "output_type": "display_data"
    }
   ],
   "source": [
    "# Plot the loss\n",
    "history_df.plot(y=\"accuracy\")"
   ]
  },
  {
   "cell_type": "code",
   "execution_count": 13,
   "metadata": {},
   "outputs": [
    {
     "name": "stdout",
     "output_type": "stream",
     "text": [
      "250/1 - 0s - loss: 0.6233 - accuracy: 0.9200\n",
      "Loss: 0.6117628846168518, Accuracy: 0.9200000166893005\n"
     ]
    }
   ],
   "source": [
    "# Evaluate the model using the test data\n",
    "model_loss, model_accuracy = nn_model.evaluate(X_test_scaled,y_test,verbose=2)\n",
    "print(f\"Loss: {model_loss}, Accuracy: {model_accuracy}\")"
   ]
  },
  {
   "cell_type": "code",
   "execution_count": 14,
   "metadata": {},
   "outputs": [
    {
     "data": {
      "text/plain": [
       "array([[0],\n",
       "       [1],\n",
       "       [0],\n",
       "       [1],\n",
       "       [0],\n",
       "       [0],\n",
       "       [1],\n",
       "       [1],\n",
       "       [1],\n",
       "       [0]], dtype=int32)"
      ]
     },
     "execution_count": 14,
     "metadata": {},
     "output_type": "execute_result"
    }
   ],
   "source": [
    "# Predict the classification of a new set of blob data\n",
    "new_X, new_Y = make_blobs(n_samples=10, centers=2, n_features=2, random_state=78)\n",
    "\n",
    "nn_model.predict_classes(new_X)"
   ]
  },
  {
   "cell_type": "code",
   "execution_count": 15,
   "metadata": {},
   "outputs": [
    {
     "data": {
      "text/plain": [
       "<matplotlib.axes._subplots.AxesSubplot at 0x1a411abcc0>"
      ]
     },
     "execution_count": 15,
     "metadata": {},
     "output_type": "execute_result"
    },
    {
     "data": {
      "image/png": "[encoded data removed]",
      "text/plain": [
       "<Figure size 432x288 with 2 Axes>"
      ]
     },
     "metadata": {
      "needs_background": "light"
     },
     "output_type": "display_data"
    }
   ],
   "source": [
    "from sklearn.datasets import make_moons\n",
    "\n",
    "# Creating dummy nonlinear data\n",
    "X_moons, y_moons = make_moons(n_samples=1000, noise=0.08, random_state=78)\n",
    "\n",
    "# Transforming y_moons to a vertical vector\n",
    "y_moons = y_moons.reshape(-1, 1)\n",
    "\n",
    "# Creating a DataFrame to plot the nonlinear dummy data\n",
    "df_moons = pd.DataFrame(X_moons, columns=[\"Feature 1\", \"Feature 2\"])\n",
    "df_moons[\"Target\"] = y_moons\n",
    "\n",
    "# Plot the nonlinear dummy data\n",
    "df_moons.plot.scatter(x=\"Feature 1\",y=\"Feature 2\", c=\"Target\",colormap=\"winter\")"
   ]
  },
  {
   "cell_type": "code",
   "execution_count": 16,
   "metadata": {},
   "outputs": [],
   "source": [
    "# Create training and testing sets\n",
    "X_moon_train, X_moon_test, y_moon_train, y_moon_test = train_test_split(\n",
    "    X_moons, y_moons, random_state=78\n",
    ")\n",
    "\n",
    "# Create the scaler instance\n",
    "X_moon_scaler = skl.preprocessing.StandardScaler()\n",
    "\n",
    "# Fit the scaler\n",
    "X_moon_scaler.fit(X_moon_train)\n",
    "\n",
    "# Scale the data\n",
    "X_moon_train_scaled = X_moon_scaler.transform(X_moon_train)\n",
    "X_moon_test_scaled = X_moon_scaler.transform(X_moon_test)"
   ]
  },
  {
   "cell_type": "code",
   "execution_count": 17,
   "metadata": {},
   "outputs": [
    {
     "name": "stdout",
     "output_type": "stream",
     "text": [
      "Train on 750 samples\n",
      "Epoch 1/100\n",
      "750/750 [==============================] - 0s 106us/sample - loss: 0.5801 - accuracy: 0.8053\n",
      "Epoch 2/100\n",
      "750/750 [==============================] - 0s 62us/sample - loss: 0.5719 - accuracy: 0.8067\n",
      "Epoch 3/100\n",
      "750/750 [==============================] - 0s 63us/sample - loss: 0.5630 - accuracy: 0.8107\n",
      "Epoch 4/100\n",
      "750/750 [==============================] - 0s 65us/sample - loss: 0.5541 - accuracy: 0.8120\n",
      "Epoch 5/100\n",
      "750/750 [==============================] - 0s 84us/sample - loss: 0.5453 - accuracy: 0.8147\n",
      "Epoch 6/100\n",
      "750/750 [==============================] - 0s 84us/sample - loss: 0.5368 - accuracy: 0.8173\n",
      "Epoch 7/100\n",
      "750/750 [==============================] - 0s 57us/sample - loss: 0.5283 - accuracy: 0.8187\n",
      "Epoch 8/100\n",
      "750/750 [==============================] - 0s 55us/sample - loss: 0.5202 - accuracy: 0.8213\n",
      "Epoch 9/100\n",
      "750/750 [==============================] - 0s 78us/sample - loss: 0.5123 - accuracy: 0.8227\n",
      "Epoch 10/100\n",
      "750/750 [==============================] - 0s 59us/sample - loss: 0.5046 - accuracy: 0.8227\n",
      "Epoch 11/100\n",
      "750/750 [==============================] - 0s 53us/sample - loss: 0.4971 - accuracy: 0.8227\n",
      "Epoch 12/100\n",
      "750/750 [==============================] - 0s 52us/sample - loss: 0.4899 - accuracy: 0.8240\n",
      "Epoch 13/100\n",
      "750/750 [==============================] - 0s 50us/sample - loss: 0.4829 - accuracy: 0.8280\n",
      "Epoch 14/100\n",
      "750/750 [==============================] - 0s 56us/sample - loss: 0.4762 - accuracy: 0.8280\n",
      "Epoch 15/100\n",
      "750/750 [==============================] - 0s 55us/sample - loss: 0.4697 - accuracy: 0.8280\n",
      "Epoch 16/100\n",
      "750/750 [==============================] - 0s 55us/sample - loss: 0.4633 - accuracy: 0.8293\n",
      "Epoch 17/100\n",
      "750/750 [==============================] - 0s 54us/sample - loss: 0.4571 - accuracy: 0.8307\n",
      "Epoch 18/100\n",
      "750/750 [==============================] - 0s 55us/sample - loss: 0.4512 - accuracy: 0.8333\n",
      "Epoch 19/100\n",
      "750/750 [==============================] - 0s 55us/sample - loss: 0.4454 - accuracy: 0.8373\n",
      "Epoch 20/100\n",
      "750/750 [==============================] - 0s 54us/sample - loss: 0.4400 - accuracy: 0.8373\n",
      "Epoch 21/100\n",
      "750/750 [==============================] - 0s 54us/sample - loss: 0.4346 - accuracy: 0.8413\n",
      "Epoch 22/100\n",
      "750/750 [==============================] - 0s 51us/sample - loss: 0.4295 - accuracy: 0.8427\n",
      "Epoch 23/100\n",
      "750/750 [==============================] - 0s 57us/sample - loss: 0.4246 - accuracy: 0.8440\n",
      "Epoch 24/100\n",
      "750/750 [==============================] - 0s 56us/sample - loss: 0.4199 - accuracy: 0.8453\n",
      "Epoch 25/100\n",
      "750/750 [==============================] - 0s 55us/sample - loss: 0.4153 - accuracy: 0.8493\n",
      "Epoch 26/100\n",
      "750/750 [==============================] - 0s 57us/sample - loss: 0.4109 - accuracy: 0.8520\n",
      "Epoch 27/100\n",
      "750/750 [==============================] - 0s 56us/sample - loss: 0.4066 - accuracy: 0.8533\n",
      "Epoch 28/100\n",
      "750/750 [==============================] - 0s 55us/sample - loss: 0.4026 - accuracy: 0.8547\n",
      "Epoch 29/100\n",
      "750/750 [==============================] - 0s 56us/sample - loss: 0.3985 - accuracy: 0.8560\n",
      "Epoch 30/100\n",
      "750/750 [==============================] - 0s 61us/sample - loss: 0.3946 - accuracy: 0.8573\n",
      "Epoch 31/100\n",
      "750/750 [==============================] - 0s 53us/sample - loss: 0.3908 - accuracy: 0.8587\n",
      "Epoch 32/100\n",
      "750/750 [==============================] - 0s 54us/sample - loss: 0.3871 - accuracy: 0.8613\n",
      "Epoch 33/100\n",
      "750/750 [==============================] - 0s 56us/sample - loss: 0.3835 - accuracy: 0.8627\n",
      "Epoch 34/100\n",
      "750/750 [==============================] - 0s 55us/sample - loss: 0.3799 - accuracy: 0.8653\n",
      "Epoch 35/100\n",
      "750/750 [==============================] - 0s 57us/sample - loss: 0.3764 - accuracy: 0.8653\n",
      "Epoch 36/100\n",
      "750/750 [==============================] - 0s 55us/sample - loss: 0.3730 - accuracy: 0.8680\n",
      "Epoch 37/100\n",
      "750/750 [==============================] - 0s 56us/sample - loss: 0.3698 - accuracy: 0.8693\n",
      "Epoch 38/100\n",
      "750/750 [==============================] - 0s 54us/sample - loss: 0.3667 - accuracy: 0.8693\n",
      "Epoch 39/100\n",
      "750/750 [==============================] - 0s 54us/sample - loss: 0.3636 - accuracy: 0.8693\n",
      "Epoch 40/100\n",
      "750/750 [==============================] - 0s 52us/sample - loss: 0.3605 - accuracy: 0.8693\n",
      "Epoch 41/100\n",
      "750/750 [==============================] - 0s 56us/sample - loss: 0.3577 - accuracy: 0.8693\n",
      "Epoch 42/100\n",
      "750/750 [==============================] - 0s 54us/sample - loss: 0.3550 - accuracy: 0.8707\n",
      "Epoch 43/100\n",
      "750/750 [==============================] - 0s 54us/sample - loss: 0.3522 - accuracy: 0.8720\n",
      "Epoch 44/100\n",
      "750/750 [==============================] - 0s 53us/sample - loss: 0.3496 - accuracy: 0.8760\n",
      "Epoch 45/100\n",
      "750/750 [==============================] - 0s 54us/sample - loss: 0.3470 - accuracy: 0.8787\n",
      "Epoch 46/100\n",
      "750/750 [==============================] - 0s 54us/sample - loss: 0.3445 - accuracy: 0.8787\n",
      "Epoch 47/100\n",
      "750/750 [==============================] - 0s 53us/sample - loss: 0.3420 - accuracy: 0.8813\n",
      "Epoch 48/100\n",
      "750/750 [==============================] - 0s 55us/sample - loss: 0.3397 - accuracy: 0.8827\n",
      "Epoch 49/100\n",
      "750/750 [==============================] - 0s 52us/sample - loss: 0.3374 - accuracy: 0.8840\n",
      "Epoch 50/100\n",
      "750/750 [==============================] - 0s 55us/sample - loss: 0.3352 - accuracy: 0.8853\n",
      "Epoch 51/100\n",
      "750/750 [==============================] - 0s 55us/sample - loss: 0.3332 - accuracy: 0.8867\n",
      "Epoch 52/100\n",
      "750/750 [==============================] - 0s 54us/sample - loss: 0.3312 - accuracy: 0.8867\n",
      "Epoch 53/100\n",
      "750/750 [==============================] - 0s 55us/sample - loss: 0.3294 - accuracy: 0.8867\n",
      "Epoch 54/100\n",
      "750/750 [==============================] - 0s 53us/sample - loss: 0.3276 - accuracy: 0.8867\n",
      "Epoch 55/100\n",
      "750/750 [==============================] - 0s 52us/sample - loss: 0.3258 - accuracy: 0.8853\n",
      "Epoch 56/100\n",
      "750/750 [==============================] - 0s 50us/sample - loss: 0.3242 - accuracy: 0.8867\n",
      "Epoch 57/100\n",
      "750/750 [==============================] - 0s 51us/sample - loss: 0.3225 - accuracy: 0.8880\n",
      "Epoch 58/100\n",
      "750/750 [==============================] - 0s 52us/sample - loss: 0.3209 - accuracy: 0.8880\n",
      "Epoch 59/100\n",
      "750/750 [==============================] - 0s 52us/sample - loss: 0.3194 - accuracy: 0.8880\n",
      "Epoch 60/100\n",
      "750/750 [==============================] - 0s 52us/sample - loss: 0.3179 - accuracy: 0.8880\n",
      "Epoch 61/100\n",
      "750/750 [==============================] - 0s 51us/sample - loss: 0.3166 - accuracy: 0.8880\n",
      "Epoch 62/100\n",
      "750/750 [==============================] - 0s 50us/sample - loss: 0.3152 - accuracy: 0.8880\n",
      "Epoch 63/100\n",
      "750/750 [==============================] - 0s 52us/sample - loss: 0.3139 - accuracy: 0.8880\n",
      "Epoch 64/100\n",
      "750/750 [==============================] - 0s 50us/sample - loss: 0.3126 - accuracy: 0.8880\n",
      "Epoch 65/100\n",
      "750/750 [==============================] - 0s 50us/sample - loss: 0.3114 - accuracy: 0.8893\n",
      "Epoch 66/100\n",
      "750/750 [==============================] - 0s 52us/sample - loss: 0.3102 - accuracy: 0.8893\n",
      "Epoch 67/100\n",
      "750/750 [==============================] - 0s 51us/sample - loss: 0.3091 - accuracy: 0.8907\n",
      "Epoch 68/100\n",
      "750/750 [==============================] - 0s 49us/sample - loss: 0.3079 - accuracy: 0.8893\n",
      "Epoch 69/100\n",
      "750/750 [==============================] - 0s 50us/sample - loss: 0.3068 - accuracy: 0.8893\n",
      "Epoch 70/100\n",
      "750/750 [==============================] - 0s 51us/sample - loss: 0.3058 - accuracy: 0.8907\n",
      "Epoch 71/100\n",
      "750/750 [==============================] - 0s 50us/sample - loss: 0.3048 - accuracy: 0.8907\n",
      "Epoch 72/100\n",
      "750/750 [==============================] - 0s 51us/sample - loss: 0.3038 - accuracy: 0.8893\n",
      "Epoch 73/100\n",
      "750/750 [==============================] - 0s 50us/sample - loss: 0.3029 - accuracy: 0.8893\n",
      "Epoch 74/100\n",
      "750/750 [==============================] - 0s 51us/sample - loss: 0.3020 - accuracy: 0.8893\n",
      "Epoch 75/100\n",
      "750/750 [==============================] - 0s 52us/sample - loss: 0.3011 - accuracy: 0.8893\n",
      "Epoch 76/100\n",
      "750/750 [==============================] - 0s 50us/sample - loss: 0.3003 - accuracy: 0.8893\n",
      "Epoch 77/100\n",
      "750/750 [==============================] - 0s 51us/sample - loss: 0.2995 - accuracy: 0.8893\n",
      "Epoch 78/100\n",
      "750/750 [==============================] - 0s 51us/sample - loss: 0.2986 - accuracy: 0.8893\n",
      "Epoch 79/100\n",
      "750/750 [==============================] - 0s 51us/sample - loss: 0.2979 - accuracy: 0.8907\n",
      "Epoch 80/100\n",
      "750/750 [==============================] - 0s 52us/sample - loss: 0.2972 - accuracy: 0.8907\n",
      "Epoch 81/100\n",
      "750/750 [==============================] - 0s 49us/sample - loss: 0.2964 - accuracy: 0.8907\n",
      "Epoch 82/100\n",
      "750/750 [==============================] - 0s 47us/sample - loss: 0.2956 - accuracy: 0.8907\n",
      "Epoch 83/100\n",
      "750/750 [==============================] - 0s 47us/sample - loss: 0.2949 - accuracy: 0.8907\n",
      "Epoch 84/100\n",
      "750/750 [==============================] - 0s 47us/sample - loss: 0.2944 - accuracy: 0.8893\n",
      "Epoch 85/100\n",
      "750/750 [==============================] - 0s 49us/sample - loss: 0.2936 - accuracy: 0.8907\n",
      "Epoch 86/100\n",
      "750/750 [==============================] - 0s 48us/sample - loss: 0.2929 - accuracy: 0.8907\n",
      "Epoch 87/100\n",
      "750/750 [==============================] - 0s 47us/sample - loss: 0.2924 - accuracy: 0.8907\n",
      "Epoch 88/100\n",
      "750/750 [==============================] - 0s 47us/sample - loss: 0.2916 - accuracy: 0.8920\n",
      "Epoch 89/100\n",
      "750/750 [==============================] - 0s 48us/sample - loss: 0.2911 - accuracy: 0.8907\n",
      "Epoch 90/100\n",
      "750/750 [==============================] - 0s 48us/sample - loss: 0.2905 - accuracy: 0.8920\n",
      "Epoch 91/100\n",
      "750/750 [==============================] - 0s 49us/sample - loss: 0.2899 - accuracy: 0.8920\n",
      "Epoch 92/100\n",
      "750/750 [==============================] - 0s 48us/sample - loss: 0.2893 - accuracy: 0.8920\n",
      "Epoch 93/100\n",
      "750/750 [==============================] - 0s 48us/sample - loss: 0.2887 - accuracy: 0.8920\n",
      "Epoch 94/100\n",
      "750/750 [==============================] - 0s 46us/sample - loss: 0.2882 - accuracy: 0.8920\n",
      "Epoch 95/100\n",
      "750/750 [==============================] - 0s 48us/sample - loss: 0.2877 - accuracy: 0.8920\n",
      "Epoch 96/100\n",
      "750/750 [==============================] - 0s 48us/sample - loss: 0.2871 - accuracy: 0.8920\n",
      "Epoch 97/100\n",
      "750/750 [==============================] - 0s 48us/sample - loss: 0.2867 - accuracy: 0.8920\n",
      "Epoch 98/100\n",
      "750/750 [==============================] - 0s 49us/sample - loss: 0.2861 - accuracy: 0.8920\n",
      "Epoch 99/100\n",
      "750/750 [==============================] - 0s 48us/sample - loss: 0.2857 - accuracy: 0.8920\n",
      "Epoch 100/100\n",
      "750/750 [==============================] - 0s 48us/sample - loss: 0.2852 - accuracy: 0.8920\n"
     ]
    }
   ],
   "source": [
    "# Training the model with the nonlinear data\n",
    "model_moon = nn_model.fit(X_moon_train_scaled, y_moon_train, epochs=100, shuffle=True)"
   ]
  },
  {
   "cell_type": "code",
   "execution_count": 18,
   "metadata": {},
   "outputs": [
    {
     "data": {
      "text/plain": [
       "<matplotlib.axes._subplots.AxesSubplot at 0x1a41336358>"
      ]
     },
     "execution_count": 18,
     "metadata": {},
     "output_type": "execute_result"
    },
    {
     "data": {
      "image/png": "[encoded data removed]",
      "text/plain": [
       "<Figure size 432x288 with 1 Axes>"
      ]
     },
     "metadata": {
      "needs_background": "light"
     },
     "output_type": "display_data"
    }
   ],
   "source": [
    "# Create a DataFrame containing training history\n",
    "history_df = pd.DataFrame(model_moon.history, index=range(1,len(model_moon.history[\"loss\"])+1))\n",
    "\n",
    "# Plot the loss\n",
    "history_df.plot(y=\"loss\")"
   ]
  },
  {
   "cell_type": "code",
   "execution_count": 19,
   "metadata": {},
   "outputs": [
    {
     "data": {
      "text/plain": [
       "<matplotlib.axes._subplots.AxesSubplot at 0x1a4124e7f0>"
      ]
     },
     "execution_count": 19,
     "metadata": {},
     "output_type": "execute_result"
    },
    {
     "data": {
      "image/png": "[encoded data removed]",
      "text/plain": [
       "<Figure size 432x288 with 1 Axes>"
      ]
     },
     "metadata": {
      "needs_background": "light"
     },
     "output_type": "display_data"
    }
   ],
   "source": [
    "# Plot the loss\n",
    "history_df.plot(y=\"accuracy\")"
   ]
  },
  {
   "cell_type": "code",
   "execution_count": 20,
   "metadata": {},
   "outputs": [],
   "source": [
    "# Generate our new Sequential model\n",
    "new_model = tf.keras.models.Sequential()"
   ]
  },
  {
   "cell_type": "code",
   "execution_count": 21,
   "metadata": {},
   "outputs": [],
   "source": [
    "# Add the input and hidden layer\n",
    "number_inputs = 2\n",
    "number_hidden_nodes = 6\n",
    "\n",
    "new_model.add(tf.keras.layers.Dense(units=number_hidden_nodes, activation=\"relu\", input_dim=number_inputs))\n",
    "\n",
    "# Add the output layer that uses a probability activation function\n",
    "new_model.add(tf.keras.layers.Dense(units=1, activation=\"sigmoid\"))"
   ]
  },
  {
   "cell_type": "code",
   "execution_count": 22,
   "metadata": {},
   "outputs": [
    {
     "name": "stdout",
     "output_type": "stream",
     "text": [
      "Train on 750 samples\n",
      "Epoch 1/100\n",
      "750/750 [==============================] - 1s 858us/sample - loss: 0.6340 - accuracy: 0.5640\n",
      "Epoch 2/100\n",
      "750/750 [==============================] - 0s 63us/sample - loss: 0.6052 - accuracy: 0.5773\n",
      "Epoch 3/100\n",
      "750/750 [==============================] - 0s 65us/sample - loss: 0.5774 - accuracy: 0.6840\n",
      "Epoch 4/100\n",
      "750/750 [==============================] - 0s 58us/sample - loss: 0.5503 - accuracy: 0.7933\n",
      "Epoch 5/100\n",
      "750/750 [==============================] - 0s 88us/sample - loss: 0.5240 - accuracy: 0.8547\n",
      "Epoch 6/100\n",
      "750/750 [==============================] - 0s 55us/sample - loss: 0.4980 - accuracy: 0.8560\n",
      "Epoch 7/100\n",
      "750/750 [==============================] - 0s 54us/sample - loss: 0.4736 - accuracy: 0.8573\n",
      "Epoch 8/100\n",
      "750/750 [==============================] - 0s 52us/sample - loss: 0.4502 - accuracy: 0.8587\n",
      "Epoch 9/100\n",
      "750/750 [==============================] - 0s 52us/sample - loss: 0.4283 - accuracy: 0.8600\n",
      "Epoch 10/100\n",
      "750/750 [==============================] - 0s 52us/sample - loss: 0.4084 - accuracy: 0.8627\n",
      "Epoch 11/100\n",
      "750/750 [==============================] - 0s 53us/sample - loss: 0.3900 - accuracy: 0.8640\n",
      "Epoch 12/100\n",
      "750/750 [==============================] - 0s 53us/sample - loss: 0.3736 - accuracy: 0.8667\n",
      "Epoch 13/100\n",
      "750/750 [==============================] - 0s 70us/sample - loss: 0.3588 - accuracy: 0.8667\n",
      "Epoch 14/100\n",
      "750/750 [==============================] - 0s 65us/sample - loss: 0.3454 - accuracy: 0.8667\n",
      "Epoch 15/100\n",
      "750/750 [==============================] - 0s 54us/sample - loss: 0.3336 - accuracy: 0.8707\n",
      "Epoch 16/100\n",
      "750/750 [==============================] - 0s 55us/sample - loss: 0.3230 - accuracy: 0.8720\n",
      "Epoch 17/100\n",
      "750/750 [==============================] - 0s 55us/sample - loss: 0.3141 - accuracy: 0.8773\n",
      "Epoch 18/100\n",
      "750/750 [==============================] - 0s 51us/sample - loss: 0.3059 - accuracy: 0.8760\n",
      "Epoch 19/100\n",
      "750/750 [==============================] - 0s 57us/sample - loss: 0.2988 - accuracy: 0.8760\n",
      "Epoch 20/100\n",
      "750/750 [==============================] - 0s 65us/sample - loss: 0.2923 - accuracy: 0.8787\n",
      "Epoch 21/100\n",
      "750/750 [==============================] - 0s 55us/sample - loss: 0.2866 - accuracy: 0.8800\n",
      "Epoch 22/100\n",
      "750/750 [==============================] - 0s 54us/sample - loss: 0.2815 - accuracy: 0.8813\n",
      "Epoch 23/100\n",
      "750/750 [==============================] - 0s 52us/sample - loss: 0.2770 - accuracy: 0.8840\n",
      "Epoch 24/100\n",
      "750/750 [==============================] - 0s 54us/sample - loss: 0.2729 - accuracy: 0.8853\n",
      "Epoch 25/100\n",
      "750/750 [==============================] - 0s 54us/sample - loss: 0.2691 - accuracy: 0.8853\n",
      "Epoch 26/100\n",
      "750/750 [==============================] - 0s 57us/sample - loss: 0.2655 - accuracy: 0.8853\n",
      "Epoch 27/100\n",
      "750/750 [==============================] - 0s 65us/sample - loss: 0.2623 - accuracy: 0.8853\n",
      "Epoch 28/100\n",
      "750/750 [==============================] - 0s 60us/sample - loss: 0.2592 - accuracy: 0.8853\n",
      "Epoch 29/100\n",
      "750/750 [==============================] - 0s 56us/sample - loss: 0.2563 - accuracy: 0.8867\n",
      "Epoch 30/100\n",
      "750/750 [==============================] - 0s 59us/sample - loss: 0.2537 - accuracy: 0.8867\n",
      "Epoch 31/100\n",
      "750/750 [==============================] - 0s 57us/sample - loss: 0.2512 - accuracy: 0.8907\n",
      "Epoch 32/100\n",
      "750/750 [==============================] - 0s 57us/sample - loss: 0.2490 - accuracy: 0.8920\n",
      "Epoch 33/100\n",
      "750/750 [==============================] - 0s 56us/sample - loss: 0.2468 - accuracy: 0.8947\n",
      "Epoch 34/100\n",
      "750/750 [==============================] - 0s 61us/sample - loss: 0.2448 - accuracy: 0.8973\n",
      "Epoch 35/100\n",
      "750/750 [==============================] - 0s 59us/sample - loss: 0.2429 - accuracy: 0.8987\n",
      "Epoch 36/100\n",
      "750/750 [==============================] - 0s 55us/sample - loss: 0.2411 - accuracy: 0.8987\n",
      "Epoch 37/100\n",
      "750/750 [==============================] - 0s 55us/sample - loss: 0.2395 - accuracy: 0.9000\n",
      "Epoch 38/100\n",
      "750/750 [==============================] - 0s 56us/sample - loss: 0.2377 - accuracy: 0.9013\n",
      "Epoch 39/100\n",
      "750/750 [==============================] - 0s 57us/sample - loss: 0.2360 - accuracy: 0.9013\n",
      "Epoch 40/100\n",
      "750/750 [==============================] - 0s 57us/sample - loss: 0.2344 - accuracy: 0.9013\n",
      "Epoch 41/100\n",
      "750/750 [==============================] - 0s 58us/sample - loss: 0.2329 - accuracy: 0.9013\n",
      "Epoch 42/100\n",
      "750/750 [==============================] - 0s 61us/sample - loss: 0.2315 - accuracy: 0.9027\n",
      "Epoch 43/100\n",
      "750/750 [==============================] - 0s 65us/sample - loss: 0.2301 - accuracy: 0.9027\n",
      "Epoch 44/100\n",
      "750/750 [==============================] - 0s 52us/sample - loss: 0.2287 - accuracy: 0.9027\n",
      "Epoch 45/100\n",
      "750/750 [==============================] - 0s 53us/sample - loss: 0.2273 - accuracy: 0.9040\n",
      "Epoch 46/100\n",
      "750/750 [==============================] - 0s 56us/sample - loss: 0.2260 - accuracy: 0.9040\n",
      "Epoch 47/100\n",
      "750/750 [==============================] - 0s 57us/sample - loss: 0.2247 - accuracy: 0.9053\n",
      "Epoch 48/100\n",
      "750/750 [==============================] - 0s 55us/sample - loss: 0.2234 - accuracy: 0.9067\n",
      "Epoch 49/100\n",
      "750/750 [==============================] - 0s 55us/sample - loss: 0.2221 - accuracy: 0.9067\n",
      "Epoch 50/100\n",
      "750/750 [==============================] - 0s 54us/sample - loss: 0.2209 - accuracy: 0.9093\n",
      "Epoch 51/100\n",
      "750/750 [==============================] - 0s 56us/sample - loss: 0.2196 - accuracy: 0.9093\n",
      "Epoch 52/100\n",
      "750/750 [==============================] - 0s 56us/sample - loss: 0.2184 - accuracy: 0.9107\n",
      "Epoch 53/100\n",
      "750/750 [==============================] - 0s 56us/sample - loss: 0.2172 - accuracy: 0.9107\n",
      "Epoch 54/100\n",
      "750/750 [==============================] - 0s 56us/sample - loss: 0.2159 - accuracy: 0.9120\n",
      "Epoch 55/100\n",
      "750/750 [==============================] - 0s 55us/sample - loss: 0.2147 - accuracy: 0.9120\n",
      "Epoch 56/100\n",
      "750/750 [==============================] - 0s 57us/sample - loss: 0.2135 - accuracy: 0.9120\n",
      "Epoch 57/100\n",
      "750/750 [==============================] - 0s 57us/sample - loss: 0.2123 - accuracy: 0.9120\n",
      "Epoch 58/100\n",
      "750/750 [==============================] - 0s 56us/sample - loss: 0.2111 - accuracy: 0.9120\n",
      "Epoch 59/100\n",
      "750/750 [==============================] - 0s 57us/sample - loss: 0.2098 - accuracy: 0.9120\n",
      "Epoch 60/100\n",
      "750/750 [==============================] - 0s 54us/sample - loss: 0.2087 - accuracy: 0.9133\n",
      "Epoch 61/100\n",
      "750/750 [==============================] - 0s 57us/sample - loss: 0.2074 - accuracy: 0.9147\n",
      "Epoch 62/100\n",
      "750/750 [==============================] - 0s 55us/sample - loss: 0.2062 - accuracy: 0.9147\n",
      "Epoch 63/100\n",
      "750/750 [==============================] - 0s 55us/sample - loss: 0.2050 - accuracy: 0.9160\n",
      "Epoch 64/100\n",
      "750/750 [==============================] - 0s 56us/sample - loss: 0.2038 - accuracy: 0.9160\n",
      "Epoch 65/100\n",
      "750/750 [==============================] - 0s 54us/sample - loss: 0.2025 - accuracy: 0.9187\n",
      "Epoch 66/100\n",
      "750/750 [==============================] - 0s 60us/sample - loss: 0.2012 - accuracy: 0.9187\n",
      "Epoch 67/100\n",
      "750/750 [==============================] - 0s 53us/sample - loss: 0.2000 - accuracy: 0.9187\n",
      "Epoch 68/100\n",
      "750/750 [==============================] - 0s 50us/sample - loss: 0.1988 - accuracy: 0.9200\n",
      "Epoch 69/100\n",
      "750/750 [==============================] - 0s 51us/sample - loss: 0.1975 - accuracy: 0.9187\n",
      "Epoch 70/100\n",
      "750/750 [==============================] - 0s 51us/sample - loss: 0.1963 - accuracy: 0.9187\n",
      "Epoch 71/100\n",
      "750/750 [==============================] - 0s 53us/sample - loss: 0.1950 - accuracy: 0.9200\n",
      "Epoch 72/100\n",
      "750/750 [==============================] - 0s 51us/sample - loss: 0.1937 - accuracy: 0.9200\n",
      "Epoch 73/100\n",
      "750/750 [==============================] - 0s 49us/sample - loss: 0.1925 - accuracy: 0.9200\n",
      "Epoch 74/100\n",
      "750/750 [==============================] - 0s 49us/sample - loss: 0.1912 - accuracy: 0.9213\n",
      "Epoch 75/100\n",
      "750/750 [==============================] - 0s 50us/sample - loss: 0.1898 - accuracy: 0.9213\n",
      "Epoch 76/100\n",
      "750/750 [==============================] - 0s 50us/sample - loss: 0.1886 - accuracy: 0.9213\n",
      "Epoch 77/100\n",
      "750/750 [==============================] - 0s 52us/sample - loss: 0.1873 - accuracy: 0.9253\n",
      "Epoch 78/100\n",
      "750/750 [==============================] - 0s 53us/sample - loss: 0.1859 - accuracy: 0.9267\n",
      "Epoch 79/100\n",
      "750/750 [==============================] - 0s 54us/sample - loss: 0.1846 - accuracy: 0.9267\n",
      "Epoch 80/100\n",
      "750/750 [==============================] - 0s 54us/sample - loss: 0.1833 - accuracy: 0.9280\n",
      "Epoch 81/100\n",
      "750/750 [==============================] - 0s 52us/sample - loss: 0.1820 - accuracy: 0.9280\n",
      "Epoch 82/100\n",
      "750/750 [==============================] - 0s 52us/sample - loss: 0.1807 - accuracy: 0.9293\n",
      "Epoch 83/100\n",
      "750/750 [==============================] - 0s 53us/sample - loss: 0.1792 - accuracy: 0.9307\n",
      "Epoch 84/100\n",
      "750/750 [==============================] - 0s 52us/sample - loss: 0.1780 - accuracy: 0.9307\n",
      "Epoch 85/100\n",
      "750/750 [==============================] - 0s 52us/sample - loss: 0.1765 - accuracy: 0.9307\n",
      "Epoch 86/100\n",
      "750/750 [==============================] - 0s 56us/sample - loss: 0.1751 - accuracy: 0.9307\n",
      "Epoch 87/100\n",
      "750/750 [==============================] - 0s 54us/sample - loss: 0.1736 - accuracy: 0.9307\n",
      "Epoch 88/100\n",
      "750/750 [==============================] - 0s 53us/sample - loss: 0.1722 - accuracy: 0.9307\n",
      "Epoch 89/100\n",
      "750/750 [==============================] - 0s 52us/sample - loss: 0.1708 - accuracy: 0.9307\n",
      "Epoch 90/100\n",
      "750/750 [==============================] - 0s 49us/sample - loss: 0.1693 - accuracy: 0.9320\n",
      "Epoch 91/100\n",
      "750/750 [==============================] - 0s 54us/sample - loss: 0.1678 - accuracy: 0.9320\n",
      "Epoch 92/100\n",
      "750/750 [==============================] - 0s 66us/sample - loss: 0.1663 - accuracy: 0.9320\n",
      "Epoch 93/100\n",
      "750/750 [==============================] - 0s 54us/sample - loss: 0.1649 - accuracy: 0.9333\n",
      "Epoch 94/100\n",
      "750/750 [==============================] - 0s 53us/sample - loss: 0.1633 - accuracy: 0.9333\n",
      "Epoch 95/100\n",
      "750/750 [==============================] - 0s 49us/sample - loss: 0.1618 - accuracy: 0.9333\n",
      "Epoch 96/100\n",
      "750/750 [==============================] - 0s 49us/sample - loss: 0.1603 - accuracy: 0.9360\n",
      "Epoch 97/100\n",
      "750/750 [==============================] - 0s 49us/sample - loss: 0.1588 - accuracy: 0.9360\n",
      "Epoch 98/100\n",
      "750/750 [==============================] - 0s 50us/sample - loss: 0.1573 - accuracy: 0.9373\n",
      "Epoch 99/100\n",
      "750/750 [==============================] - 0s 49us/sample - loss: 0.1558 - accuracy: 0.9373\n",
      "Epoch 100/100\n",
      "750/750 [==============================] - 0s 50us/sample - loss: 0.1543 - accuracy: 0.9400\n"
     ]
    }
   ],
   "source": [
    "# Compile the Sequential model together and customize metrics\n",
    "new_model.compile(loss=\"binary_crossentropy\", optimizer=\"adam\", metrics=[\"accuracy\"])\n",
    "\n",
    "# Fit the model to the training data\n",
    "new_fit_model = new_model.fit(X_moon_train_scaled, y_moon_train, epochs=100, shuffle=True)"
   ]
  },
  {
   "cell_type": "code",
   "execution_count": null,
   "metadata": {},
   "outputs": [],
   "source": []
  }
 ],
 "metadata": {
  "kernelspec": {
   "display_name": "Python 3",
   "language": "python",
   "name": "python3"
  },
  "language_info": {
   "codemirror_mode": {
    "name": "ipython",
    "version": 3
   },
   "file_extension": ".py",
   "mimetype": "text/x-python",
   "name": "python",
   "nbconvert_exporter": "python",
   "pygments_lexer": "ipython3",
   "version": "3.7.3"
  }
 },
 "nbformat": 4,
 "nbformat_minor": 2
}
